{
 "cells": [
  {
   "cell_type": "code",
   "execution_count": 5,
   "metadata": {},
   "outputs": [
    {
     "name": "stdout",
     "output_type": "stream",
     "text": [
      "secret up\n"
     ]
    }
   ],
   "source": [
    "secret=5\n",
    "guess=3\n",
    "if secret>guess:\n",
    "    print(\"secret up\")\n",
    "elif secret==guess:\n",
    "    print(\"=\")\n",
    "else:\n",
    "    print(\"guess up\")"
   ]
  },
  {
   "cell_type": "code",
   "execution_count": null,
   "metadata": {},
   "outputs": [],
   "source": []
  },
  {
   "cell_type": "code",
   "execution_count": 3,
   "metadata": {},
   "outputs": [
    {
     "name": "stdout",
     "output_type": "stream",
     "text": [
      "???\n"
     ]
    }
   ],
   "source": [
    "small=0\n",
    "green=0\n",
    "if small:\n",
    "    if green:\n",
    "        print(\"small green!\")\n",
    "    else:\n",
    "        print(\"small!\")\n",
    "elif green:\n",
    "    print(\"green!\")\n",
    "else:\n",
    "    print(\"???\")"
   ]
  },
  {
   "cell_type": "code",
   "execution_count": 4,
   "metadata": {},
   "outputs": [
    {
     "data": {
      "text/plain": [
       "26"
      ]
     },
     "execution_count": 4,
     "metadata": {},
     "output_type": "execute_result"
    }
   ],
   "source": [
    "a='abcdefghijklmnopqrstuvwxyz'\n",
    "len(a)"
   ]
  },
  {
   "cell_type": "code",
   "execution_count": null,
   "metadata": {},
   "outputs": [],
   "source": [
    "a='hello!,world'\n",
    "a.split(',')"
   ]
  }
 ],
 "metadata": {
  "kernelspec": {
   "display_name": "Python 3.9.7 ('base')",
   "language": "python",
   "name": "python3"
  },
  "language_info": {
   "codemirror_mode": {
    "name": "ipython",
    "version": 3
   },
   "file_extension": ".py",
   "mimetype": "text/x-python",
   "name": "python",
   "nbconvert_exporter": "python",
   "pygments_lexer": "ipython3",
   "version": "3.9.7"
  },
  "orig_nbformat": 4,
  "vscode": {
   "interpreter": {
    "hash": "6e3d129c97d67d81ca210ee37a57f1da43964b81f3eb8d0dda81124bcefdc581"
   }
  }
 },
 "nbformat": 4,
 "nbformat_minor": 2
}
